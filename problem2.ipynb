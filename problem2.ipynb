{
 "cells": [
  {
   "attachments": {},
   "cell_type": "markdown",
   "metadata": {},
   "source": [
    "$$\\underline{Solve:-}$$\n",
    "$$\\sf\\frac{dy}{dx}+e^{-x}=x^2\\:\\: $$ \n",
    "$$ \\mathcal{with\\:\\: y\\:\\: =\\:\\: 0\\:\\: \\&\\:\\: x\\:\\: =\\:\\: 0} $$"
   ]
  },
  {
   "cell_type": "code",
   "execution_count": 3,
   "metadata": {},
   "outputs": [],
   "source": [
    "import numpy as np\n",
    "import matplotlib.pyplot as plt"
   ]
  },
  {
   "cell_type": "code",
   "execution_count": 1,
   "metadata": {},
   "outputs": [],
   "source": [
    "class Solve:\n",
    "    def __init__(self) -> None:\n",
    "        self.x = int(input(\"x: \"))\n",
    "        self.y = int(input(\"y: \"))\n",
    "    \n",
    "    def main(self):\n",
    "        xx , yy = [],[]\n",
    "        self.dx = 0.01\n",
    "        for i in range(500):\n",
    "            self.dydx = self.x**2-np.exp(-self.x)\n",
    "            self.dy = self.dydx*self.dx\n",
    "            \n",
    "            self.x+=self.dx\n",
    "            self.y+=self.dy\n",
    "\n",
    "            xx.append(self.x), yy.append(self.y)\n",
    "        return np.array(xx), np.array(yy)\n",
    "    \n",
    "    def draw(self):\n",
    "        plt.plot(self.main()[0],self.main()[1])\n",
    "        plt.grid(True)\n",
    "        plt.xlabel(r\"$x\\longrightarrow$\")\n",
    "        plt.ylabel(r\"$y\\longrightarrow$\")\n",
    "        plt.style.use(\"seaborn\")\n",
    "        plt.title(r\"Solution of $\\frac{dy}{dx}+e^{-x}=x^2$\")\n",
    "        plt.show()"
   ]
  }
 ],
 "metadata": {
  "kernelspec": {
   "display_name": "Python 3",
   "language": "python",
   "name": "python3"
  },
  "language_info": {
   "codemirror_mode": {
    "name": "ipython",
    "version": 3
   },
   "file_extension": ".py",
   "mimetype": "text/x-python",
   "name": "python",
   "nbconvert_exporter": "python",
   "pygments_lexer": "ipython3",
   "version": "3.10.8"
  },
  "orig_nbformat": 4
 },
 "nbformat": 4,
 "nbformat_minor": 2
}
