{
 "cells": [
  {
   "attachments": {},
   "cell_type": "markdown",
   "metadata": {},
   "source": [
    "$$\\underline{\\underline{\\sf{Solution \\:\\:of \\:\\:2^nd \\:\\:order \\:\\:differential \\:\\:equation}::}}$$\n",
    "$$\\frac{d^2y}{dt^2} + e^{-t}\\frac{dy}{dt} = -y $$\n",
    "$$provided\\:\\: initial\\:\\: conditions\\:\\: y = 0,\\:\\: t = 0 \\:\\:\\&\\:\\: \\frac{dy}{dt}\\:\\: =\\:\\: 1 $$"
   ]
  },
  {
   "cell_type": "code",
   "execution_count": 1,
   "metadata": {},
   "outputs": [],
   "source": [
    "# imports\n",
    "import numpy as np\n",
    "import matplotlib.pyplot as plt"
   ]
  },
  {
   "cell_type": "code",
   "execution_count": 2,
   "metadata": {},
   "outputs": [],
   "source": [
    "class Solution:\n",
    "    def __init__(self):\n",
    "        self.t = int(input(\"initial t::\\t\"))\n",
    "        self.y = int(input(\"initial y::\\t\"))\n",
    "        self.dydt = int(input(\"initial dy/dt::\\t\"))\n",
    "        self.dt = 0.01\n",
    "    \n",
    "    def main(self):\n",
    "        yy,tt,dydt = [],[],[]\n",
    "        for i in range(500):\n",
    "            self.dy = self.dydt*self.dt\n",
    "            self.y += self.dy\n",
    "            \n",
    "            self.ddy = (-self.y - np.exp(-self.t)*self.dydt)*self.dt\n",
    "            self.dydt += self.ddy\n",
    "            \n",
    "            self.t += self.dt\n",
    "            yy.append(self.y),tt.append(self.t),dydt.append(self.dydt)\n",
    "        return np.array(tt), np.array(yy), np.array(dydt)\n",
    "    \n",
    "    def draw(self):\n",
    "        self.t , self.y , self.u = self.main()[0], self.main()[1], self.main()[2]\n",
    "        plt.plot(self.t,self.y)\n",
    "        plt.grid(True)\n",
    "        plt.xlabel(r\"$x\\longrightarrow$\")\n",
    "        plt.ylabel(r\"$y\\longrightarrow$\")\n",
    "        plt.style.use(\"seaborn\")\n",
    "        plt.show()\n",
    "        "
   ]
  },
  {
   "cell_type": "code",
   "execution_count": 3,
   "metadata": {},
   "outputs": [
    {
     "data": {
      "image/png": "[encoded data removed]",
      "text/plain": [
       "<Figure size 432x288 with 1 Axes>"
      ]
     },
     "metadata": {
      "needs_background": "light"
     },
     "output_type": "display_data"
    }
   ],
   "source": [
    "Solution().draw()"
   ]
  }
 ],
 "metadata": {
  "kernelspec": {
   "display_name": "Python 3",
   "language": "python",
   "name": "python3"
  },
  "language_info": {
   "codemirror_mode": {
    "name": "ipython",
    "version": 3
   },
   "file_extension": ".py",
   "mimetype": "text/x-python",
   "name": "python",
   "nbconvert_exporter": "python",
   "pygments_lexer": "ipython3",
   "version": "3.10.8"
  },
  "orig_nbformat": 4
 },
 "nbformat": 4,
 "nbformat_minor": 2
}
